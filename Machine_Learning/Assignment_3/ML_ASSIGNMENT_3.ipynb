{
 "cells": [
  {
   "cell_type": "markdown",
   "id": "cd0ffed5",
   "metadata": {},
   "source": [
    "# Ankush Dey    Roll:- MDS202108\n",
    "\n",
    "# Anjali Pugalia Roll:- MDS202107"
   ]
  },
  {
   "cell_type": "markdown",
   "id": "55d616e9",
   "metadata": {},
   "source": [
    "## Importing the Libraries "
   ]
  },
  {
   "cell_type": "code",
   "execution_count": 2,
   "id": "81cb5f33",
   "metadata": {},
   "outputs": [],
   "source": [
    "import numpy as np\n",
    "import tensorflow as tf\n",
    "import time\n",
    "from tensorflow import keras\n",
    "from tensorflow.keras import models, layers, losses, metrics, callbacks, datasets\n",
    "from tensorflow.keras.utils import plot_model\n",
    "from sklearn.linear_model import LogisticRegression\n",
    "from sklearn.pipeline import Pipeline\n",
    "from sklearn.cluster import KMeans\n",
    "import matplotlib.pyplot as plt\n",
    "import warnings\n",
    "warnings.filterwarnings('ignore')\n",
    "seed=42\n",
    "tf.random.set_seed(seed)"
   ]
  },
  {
   "cell_type": "code",
   "execution_count": 2,
   "id": "349184a0",
   "metadata": {},
   "outputs": [
    {
     "data": {
      "text/plain": [
       "'2.9.0'"
      ]
     },
     "execution_count": 2,
     "metadata": {},
     "output_type": "execute_result"
    }
   ],
   "source": [
    "tf.__version__"
   ]
  },
  {
   "cell_type": "code",
   "execution_count": 3,
   "id": "8ffbe1ee",
   "metadata": {},
   "outputs": [
    {
     "data": {
      "text/plain": [
       "'2.9.0'"
      ]
     },
     "execution_count": 3,
     "metadata": {},
     "output_type": "execute_result"
    }
   ],
   "source": [
    "keras.__version__"
   ]
  },
  {
   "cell_type": "markdown",
   "id": "98ad79ed",
   "metadata": {},
   "source": [
    "## Loading the Data "
   ]
  },
  {
   "cell_type": "code",
   "execution_count": 4,
   "id": "15c160c6",
   "metadata": {},
   "outputs": [],
   "source": [
    "(X_train,y_train),(X_test,y_test)=datasets.fashion_mnist.load_data()\n",
    "X_train, X_test= X_train/255.0, X_test/255.0"
   ]
  },
  {
   "cell_type": "markdown",
   "id": "4af919c9",
   "metadata": {},
   "source": [
    "# Preprocessing of the Data"
   ]
  },
  {
   "cell_type": "code",
   "execution_count": 5,
   "id": "53118008",
   "metadata": {},
   "outputs": [],
   "source": [
    "X_train_flatten= X_train.reshape(X_train.shape[0],-1)\n",
    "y_train_flatten= y_train.reshape(y_train.shape[0],-1)\n",
    "X_test_flatten= X_test.reshape(X_test.shape[0],-1)\n",
    "y_test_flatten= y_test.reshape(y_test.shape[0],-1)"
   ]
  },
  {
   "cell_type": "code",
   "execution_count": 6,
   "id": "f8ac8083",
   "metadata": {},
   "outputs": [],
   "source": [
    "class_names=['T-shirt/top','Trouser','Pullover','Dress','Coat','Sandal','Shirt',\n",
    "            'Sneaker','Bag','Ankle Boot']"
   ]
  },
  {
   "cell_type": "code",
   "execution_count": 7,
   "id": "ae7668ea",
   "metadata": {},
   "outputs": [
    {
     "data": {
      "text/plain": [
       "(60000, 784)"
      ]
     },
     "execution_count": 7,
     "metadata": {},
     "output_type": "execute_result"
    }
   ],
   "source": [
    "X_train_flatten.shape"
   ]
  },
  {
   "cell_type": "code",
   "execution_count": 8,
   "id": "0bb0466a",
   "metadata": {},
   "outputs": [
    {
     "data": {
      "image/png": "[encoded data removed]",
      "text/plain": [
       "<Figure size 432x288 with 1 Axes>"
      ]
     },
     "metadata": {
      "needs_background": "light"
     },
     "output_type": "display_data"
    },
    {
     "name": "stdout",
     "output_type": "stream",
     "text": [
      "It is a  Bag\n"
     ]
    }
   ],
   "source": [
    "index=654\n",
    "plt.imshow(X_train[index],cmap='binary')\n",
    "plt.axis('off')\n",
    "plt.show()\n",
    "\n",
    "print('It is a ',class_names[y_train[index]])"
   ]
  },
  {
   "cell_type": "markdown",
   "id": "16fc0f71",
   "metadata": {},
   "source": [
    "#  Experiment with Logistic Regression\n"
   ]
  },
  {
   "cell_type": "markdown",
   "id": "5a8eafa6",
   "metadata": {},
   "source": [
    "## Checking the Accuracy for entire labelled Data"
   ]
  },
  {
   "cell_type": "code",
   "execution_count": 9,
   "id": "25f0a6d8",
   "metadata": {},
   "outputs": [
    {
     "name": "stdout",
     "output_type": "stream",
     "text": [
      "peak memory: 755.56 MiB, increment: 0.41 MiB\n",
      "2722.2644176483154\n"
     ]
    }
   ],
   "source": [
    "%load_ext memory_profiler\n",
    "start=time.time()\n",
    "log_reg1 = LogisticRegression(multi_class=\"ovr\", solver=\"saga\", max_iter=500, random_state=seed)\n",
    "%memit log_reg1.fit(X_train_flatten, y_train_flatten.ravel())\n",
    "end=time.time()\n",
    "print(\"time=\",end-start, \"Sec\")"
   ]
  },
  {
   "cell_type": "code",
   "execution_count": 24,
   "id": "740dbc34",
   "metadata": {},
   "outputs": [
    {
     "name": "stdout",
     "output_type": "stream",
     "text": [
      "84.11%\n"
     ]
    }
   ],
   "source": [
    "print(str(log_reg1.score(X_test_flatten, y_test_flatten)*100)+'%')"
   ]
  },
  {
   "cell_type": "markdown",
   "id": "fde21456",
   "metadata": {},
   "source": [
    "##  Checking the Accuracy for entire labelled Data using clustering"
   ]
  },
  {
   "cell_type": "code",
   "execution_count": 11,
   "id": "146e7a0d",
   "metadata": {
    "scrolled": false
   },
   "outputs": [
    {
     "name": "stdout",
     "output_type": "stream",
     "text": [
      "peak memory: 1410.02 MiB, increment: 714.32 MiB\n",
      "Cluster= 100, Accuracy= 81.81\n",
      "peak memory: 1273.77 MiB, increment: 577.17 MiB\n",
      "Cluster= 200, Accuracy= 82.50999999999999\n",
      "peak memory: 1304.77 MiB, increment: 600.12 MiB\n",
      "Cluster= 300, Accuracy= 83.06\n",
      "2240.276414871216\n"
     ]
    }
   ],
   "source": [
    "start=time.time()\n",
    "k=[100,200,300]\n",
    "pipeline=np.empty(len(k),dtype=object)\n",
    "for i in range(len(k)):\n",
    "    pipeline[i] = Pipeline([(\"kmeans\", KMeans(init='k-means++',n_clusters=k[i], random_state=seed)),\n",
    "                         (\"log_reg\", LogisticRegression(multi_class=\"ovr\", solver=\"saga\",\n",
    "                                                        max_iter=500, random_state=seed))])\n",
    "    %memit pipeline[i].fit(X_train_flatten, y_train_flatten.ravel())\n",
    "    print('Cluster= {}, Accuracy= {}'.format(k[i],\n",
    "            pipeline[i].score(X_test_flatten,y_test_flatten)*100))\n",
    "end=time.time()\n",
    "print(\"time=\",end-start, \"Sec\")"
   ]
  },
  {
   "cell_type": "markdown",
   "id": "d1deeb98",
   "metadata": {},
   "source": [
    "## Taking Random Labeled instance"
   ]
  },
  {
   "cell_type": "code",
   "execution_count": 13,
   "id": "9abf7114",
   "metadata": {},
   "outputs": [
    {
     "name": "stdout",
     "output_type": "stream",
     "text": [
      "peak memory: 672.77 MiB, increment: 0.00 MiB\n",
      "Labelled Instance= 500, Accuracy= 78.52\n",
      "peak memory: 672.77 MiB, increment: 0.00 MiB\n",
      "Labelled Instance= 1000, Accuracy= 79.24\n",
      "peak memory: 672.78 MiB, increment: 0.01 MiB\n",
      "Labelled Instance= 2000, Accuracy= 80.89\n",
      "21.57460904121399\n"
     ]
    }
   ],
   "source": [
    "start=time.time()\n",
    "k=[500,1000,2000]\n",
    "log_reg2=np.empty(len(k),dtype=object)\n",
    "for i in range(len(k)):\n",
    "    log_reg2[i] = LogisticRegression(multi_class=\"ovr\", solver=\"saga\", random_state=seed)\n",
    "    %memit log_reg2[i].fit(X_train_flatten[:k[i]], y_train_flatten[:k[i]].ravel())\n",
    "    print('Labelled Instance= {}, Accuracy= {}'.format(k[i],\n",
    "            log_reg2[i].score(X_test_flatten,y_test_flatten.ravel())*100))\n",
    "end=time.time()\n",
    "print(\"time=\",end-start, \"Sec\")  "
   ]
  },
  {
   "cell_type": "code",
   "execution_count": 14,
   "id": "339b4294",
   "metadata": {},
   "outputs": [
    {
     "name": "stdout",
     "output_type": "stream",
     "text": [
      "peak memory: 2248.20 MiB, increment: 1575.20 MiB\n",
      "1000.8680164813995\n"
     ]
    }
   ],
   "source": [
    "start=time.time()\n",
    "kmeans1 = KMeans(init='k-means++',n_clusters=2000, random_state=seed)\n",
    "%memit X_items_dist = kmeans1.fit_transform(X_train_flatten)\n",
    "representative_items_idx = np.argmin(X_items_dist, axis=0)\n",
    "X_representative_items = X_train_flatten[representative_items_idx]\n",
    "y_representative_items = np.squeeze(y_train_flatten[representative_items_idx]).astype('int32')\n",
    "end=time.time()\n",
    "print(\"time=\",end-start, \"Sec\")"
   ]
  },
  {
   "cell_type": "code",
   "execution_count": 15,
   "id": "8f71ffe8",
   "metadata": {},
   "outputs": [
    {
     "name": "stdout",
     "output_type": "stream",
     "text": [
      "['Ankle Boot' 'T-shirt/top' 'T-shirt/top' ... 'Bag' 'Trouser' 'Ankle Boot']\n"
     ]
    }
   ],
   "source": [
    "y_representative_items = np.squeeze(y_train_flatten[representative_items_idx]).astype('int32')\n",
    "print(np.array(class_names)[y_representative_items])"
   ]
  },
  {
   "cell_type": "code",
   "execution_count": 16,
   "id": "4038d218",
   "metadata": {},
   "outputs": [
    {
     "name": "stdout",
     "output_type": "stream",
     "text": [
      "peak memory: 1473.57 MiB, increment: 1.76 MiB\n",
      "Accuracy=  81.75\n",
      "time= 59.715059757232666\n"
     ]
    }
   ],
   "source": [
    "start=time.time()\n",
    "log_reg3 = LogisticRegression(multi_class=\"ovr\", solver=\"saga\", max_iter=500, random_state=seed)\n",
    "%memit log_reg3.fit(X_representative_items, y_representative_items)\n",
    "print('Accuracy= ',log_reg3.score(X_test_flatten, y_test_flatten)*100)\n",
    "end=time.time()\n",
    "print(\"time=\",end-start, \"Sec\")"
   ]
  },
  {
   "cell_type": "code",
   "execution_count": 30,
   "id": "93a24b32",
   "metadata": {},
   "outputs": [],
   "source": [
    "y_train_propagated = np.empty(len(X_train_flatten), dtype=np.int32)\n",
    "for i in range(2000):\n",
    "    y_train_propagated[kmeans1.labels_==i] = y_representative_items[i]"
   ]
  },
  {
   "cell_type": "code",
   "execution_count": 18,
   "id": "62588ea6",
   "metadata": {},
   "outputs": [
    {
     "name": "stdout",
     "output_type": "stream",
     "text": [
      "peak memory: 1538.23 MiB, increment: 1.70 MiB\n",
      "81.21000000000001\n",
      "1899.7162182331085\n"
     ]
    }
   ],
   "source": [
    "start=time.time()\n",
    "log_reg4 = LogisticRegression(multi_class=\"ovr\", solver=\"saga\", max_iter=500, random_state=seed)\n",
    "%memit log_reg4.fit(X_train_flatten, y_train_propagated)\n",
    "print(log_reg4.score(X_test_flatten,y_test_flatten)*100)\n",
    "end=time.time()\n",
    "print(\"time=\",end-start, \"Sec\")"
   ]
  },
  {
   "cell_type": "markdown",
   "id": "913d7fbd",
   "metadata": {},
   "source": [
    "## propagating the labels to the 20% of the instances that are closest to the centroids"
   ]
  },
  {
   "cell_type": "code",
   "execution_count": 27,
   "id": "faa0cebf",
   "metadata": {},
   "outputs": [],
   "source": [
    "percentile_closest = 20\n",
    "\n",
    "X_cluster_dist = X_items_dist[np.arange(len(X_train_flatten)), kmeans1.labels_]\n",
    "for i in range(2000):\n",
    "    in_cluster = (kmeans1.labels_ == i)\n",
    "    cluster_dist = X_cluster_dist[in_cluster]\n",
    "    cutoff_distance = np.percentile(cluster_dist, percentile_closest)\n",
    "    above_cutoff = (X_cluster_dist > cutoff_distance)\n",
    "    X_cluster_dist[in_cluster & above_cutoff] = -1"
   ]
  },
  {
   "cell_type": "code",
   "execution_count": 28,
   "id": "d8c1c01a",
   "metadata": {},
   "outputs": [],
   "source": [
    "partially_propagated = (X_cluster_dist != -1)\n",
    "X_train_partially_propagated = X_train_flatten[partially_propagated]\n",
    "y_train_partially_propagated = y_train_propagated[partially_propagated]"
   ]
  },
  {
   "cell_type": "code",
   "execution_count": 29,
   "id": "d0ef4748",
   "metadata": {},
   "outputs": [
    {
     "name": "stdout",
     "output_type": "stream",
     "text": [
      "peak memory: 918.00 MiB, increment: 1.21 MiB\n",
      "80.46\n",
      "time= 452.9709997177124 Sec\n"
     ]
    }
   ],
   "source": [
    "start=time.time()\n",
    "log_reg5 = LogisticRegression(multi_class=\"ovr\", solver=\"saga\", max_iter=500, random_state=seed)\n",
    "%memit log_reg5.fit(X_train_partially_propagated, y_train_partially_propagated)\n",
    "print(log_reg5.score(X_test_flatten,y_test_flatten)*100)\n",
    "end=time.time()\n",
    "print(\"time=\",end-start, \"Sec\")"
   ]
  },
  {
   "cell_type": "code",
   "execution_count": 31,
   "id": "d28d97fd",
   "metadata": {},
   "outputs": [],
   "source": [
    "percentile_closest = 50\n",
    "\n",
    "X_cluster_dist = X_items_dist[np.arange(len(X_train_flatten)), kmeans1.labels_]\n",
    "for i in range(2000):\n",
    "    in_cluster = (kmeans1.labels_ == i)\n",
    "    cluster_dist = X_cluster_dist[in_cluster]\n",
    "    cutoff_distance = np.percentile(cluster_dist, percentile_closest)\n",
    "    above_cutoff = (X_cluster_dist > cutoff_distance)\n",
    "    X_cluster_dist[in_cluster & above_cutoff] = -1"
   ]
  },
  {
   "cell_type": "code",
   "execution_count": 32,
   "id": "123d31ae",
   "metadata": {},
   "outputs": [],
   "source": [
    "partially_propagated = (X_cluster_dist != -1)\n",
    "X_train_partially_propagated = X_train_flatten[partially_propagated]\n",
    "y_train_partially_propagated = y_train_propagated[partially_propagated]"
   ]
  },
  {
   "cell_type": "code",
   "execution_count": 33,
   "id": "9b3510fc",
   "metadata": {},
   "outputs": [
    {
     "name": "stdout",
     "output_type": "stream",
     "text": [
      "peak memory: 852.18 MiB, increment: 2.36 MiB\n",
      "80.9\n",
      "time= 2205.8227908611298 Sec\n"
     ]
    }
   ],
   "source": [
    "start=time.time()\n",
    "log_reg5 = LogisticRegression(multi_class=\"ovr\", solver=\"saga\", max_iter=5000, random_state=seed)\n",
    "%memit log_reg5.fit(X_train_partially_propagated, y_train_partially_propagated)\n",
    "print(log_reg5.score(X_test_flatten,y_test_flatten)*100)\n",
    "end=time.time()\n",
    "print(\"time=\",end-start, \"Sec\")"
   ]
  },
  {
   "cell_type": "code",
   "execution_count": 34,
   "id": "7583235e",
   "metadata": {},
   "outputs": [],
   "source": [
    "percentile_closest = 75\n",
    "\n",
    "X_cluster_dist = X_items_dist[np.arange(len(X_train_flatten)), kmeans1.labels_]\n",
    "for i in range(2000):\n",
    "    in_cluster = (kmeans1.labels_ == i)\n",
    "    cluster_dist = X_cluster_dist[in_cluster]\n",
    "    cutoff_distance = np.percentile(cluster_dist, percentile_closest)\n",
    "    above_cutoff = (X_cluster_dist > cutoff_distance)\n",
    "    X_cluster_dist[in_cluster & above_cutoff] = -1"
   ]
  },
  {
   "cell_type": "code",
   "execution_count": 35,
   "id": "3ecfa650",
   "metadata": {},
   "outputs": [],
   "source": [
    "partially_propagated = (X_cluster_dist != -1)\n",
    "X_train_partially_propagated = X_train_flatten[partially_propagated]\n",
    "y_train_partially_propagated = y_train_propagated[partially_propagated]"
   ]
  },
  {
   "cell_type": "code",
   "execution_count": 36,
   "id": "3120c18c",
   "metadata": {},
   "outputs": [
    {
     "name": "stdout",
     "output_type": "stream",
     "text": [
      "peak memory: 1068.12 MiB, increment: 0.48 MiB\n",
      "81.26\n",
      "time= 2886.410164117813 Sec\n"
     ]
    }
   ],
   "source": [
    "start=time.time()\n",
    "log_reg5 = LogisticRegression(multi_class=\"ovr\", solver=\"saga\", max_iter=5000, random_state=seed)\n",
    "%memit log_reg5.fit(X_train_partially_propagated, y_train_partially_propagated)\n",
    "print(log_reg5.score(X_test_flatten,y_test_flatten)*100)\n",
    "end=time.time()\n",
    "print(\"time=\",end-start, \"Sec\")"
   ]
  },
  {
   "cell_type": "code",
   "execution_count": null,
   "id": "42350dfd",
   "metadata": {},
   "outputs": [],
   "source": []
  }
 ],
 "metadata": {
  "kernelspec": {
   "display_name": "Python 3 (ipykernel)",
   "language": "python",
   "name": "python3"
  },
  "language_info": {
   "codemirror_mode": {
    "name": "ipython",
    "version": 3
   },
   "file_extension": ".py",
   "mimetype": "text/x-python",
   "name": "python",
   "nbconvert_exporter": "python",
   "pygments_lexer": "ipython3",
   "version": "3.8.10"
  }
 },
 "nbformat": 4,
 "nbformat_minor": 5
}
